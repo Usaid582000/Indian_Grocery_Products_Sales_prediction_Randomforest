{
 "cells": [
  {
   "cell_type": "markdown",
   "id": "48fa1880",
   "metadata": {},
   "source": [
    "**<h3>Data Installation</h3>**"
   ]
  },
  {
   "cell_type": "code",
   "execution_count": null,
   "id": "a3adabc1",
   "metadata": {},
   "outputs": [],
   "source": [
    "import csv\n",
    "import pandas as pd\n",
    "\n",
    "df = pd.read_csv('blinkit_retail.csv')\n",
    "df = df.drop('Tag', axis=1)\n",
    "df.head()"
   ]
  },
  {
   "cell_type": "code",
   "execution_count": null,
   "id": "874a1f2b",
   "metadata": {},
   "outputs": [],
   "source": []
  }
 ],
 "metadata": {
  "kernelspec": {
   "display_name": "Python 3",
   "language": "python",
   "name": "python3"
  },
  "language_info": {
   "name": "python",
   "version": "3.11.0"
  }
 },
 "nbformat": 4,
 "nbformat_minor": 5
}
