{
 "cells": [
  {
   "cell_type": "markdown",
   "id": "48fa1880",
   "metadata": {},
   "source": [
    "**<h3>Data Installation</h3>**"
   ]
  },
  {
   "cell_type": "code",
   "execution_count": 3,
   "id": "a3adabc1",
   "metadata": {},
   "outputs": [
    {
     "data": {
      "text/html": [
       "<div>\n",
       "<style scoped>\n",
       "    .dataframe tbody tr th:only-of-type {\n",
       "        vertical-align: middle;\n",
       "    }\n",
       "\n",
       "    .dataframe tbody tr th {\n",
       "        vertical-align: top;\n",
       "    }\n",
       "\n",
       "    .dataframe thead th {\n",
       "        text-align: right;\n",
       "    }\n",
       "</style>\n",
       "<table border=\"1\" class=\"dataframe\">\n",
       "  <thead>\n",
       "    <tr style=\"text-align: right;\">\n",
       "      <th></th>\n",
       "      <th>Title</th>\n",
       "      <th>Price_discount</th>\n",
       "      <th>Price_original</th>\n",
       "      <th>Details</th>\n",
       "      <th>Date</th>\n",
       "      <th>Place</th>\n",
       "    </tr>\n",
       "  </thead>\n",
       "  <tbody>\n",
       "    <tr>\n",
       "      <th>0</th>\n",
       "      <td>Onion 1 kg (Pyaz)</td>\n",
       "      <td>₹ 40</td>\n",
       "      <td>₹ 50</td>\n",
       "      <td>NaN</td>\n",
       "      <td>20240117</td>\n",
       "      <td>Bengaluru</td>\n",
       "    </tr>\n",
       "    <tr>\n",
       "      <th>1</th>\n",
       "      <td>Desi Tomato (Tamatar)</td>\n",
       "      <td>₹ 19</td>\n",
       "      <td>₹ 25</td>\n",
       "      <td>NaN</td>\n",
       "      <td>20240117</td>\n",
       "      <td>Bengaluru</td>\n",
       "    </tr>\n",
       "    <tr>\n",
       "      <th>2</th>\n",
       "      <td>Red Carrot (Gajar)</td>\n",
       "      <td>₹ 15</td>\n",
       "      <td>₹ 20</td>\n",
       "      <td>500 g</td>\n",
       "      <td>20240117</td>\n",
       "      <td>Bengaluru</td>\n",
       "    </tr>\n",
       "    <tr>\n",
       "      <th>3</th>\n",
       "      <td>Ginger (Adrak)</td>\n",
       "      <td>₹ 37</td>\n",
       "      <td>₹ 49</td>\n",
       "      <td>200 g</td>\n",
       "      <td>20240117</td>\n",
       "      <td>Bengaluru</td>\n",
       "    </tr>\n",
       "    <tr>\n",
       "      <th>4</th>\n",
       "      <td>Green Chilli (Hari Mirch)</td>\n",
       "      <td>₹ 11</td>\n",
       "      <td>₹ 14</td>\n",
       "      <td>100 g</td>\n",
       "      <td>20240117</td>\n",
       "      <td>Bengaluru</td>\n",
       "    </tr>\n",
       "  </tbody>\n",
       "</table>\n",
       "</div>"
      ],
      "text/plain": [
       "                       Title Price_discount Price_original Details      Date  \\\n",
       "0          Onion 1 kg (Pyaz)           ₹ 40           ₹ 50     NaN  20240117   \n",
       "1      Desi Tomato (Tamatar)           ₹ 19           ₹ 25     NaN  20240117   \n",
       "2         Red Carrot (Gajar)           ₹ 15           ₹ 20   500 g  20240117   \n",
       "3             Ginger (Adrak)           ₹ 37           ₹ 49   200 g  20240117   \n",
       "4  Green Chilli (Hari Mirch)           ₹ 11           ₹ 14   100 g  20240117   \n",
       "\n",
       "       Place  \n",
       "0  Bengaluru  \n",
       "1  Bengaluru  \n",
       "2  Bengaluru  \n",
       "3  Bengaluru  \n",
       "4  Bengaluru  "
      ]
     },
     "execution_count": 3,
     "metadata": {},
     "output_type": "execute_result"
    }
   ],
   "source": [
    "import csv\n",
    "import pandas as pd\n",
    "\n",
    "df = pd.read_csv('blinkit_retail.csv')\n",
    "df = df.drop('Tag', axis=1)\n",
    "df.head()"
   ]
  }
 ],
 "metadata": {
  "kernelspec": {
   "display_name": ".env",
   "language": "python",
   "name": "python3"
  },
  "language_info": {
   "codemirror_mode": {
    "name": "ipython",
    "version": 3
   },
   "file_extension": ".py",
   "mimetype": "text/x-python",
   "name": "python",
   "nbconvert_exporter": "python",
   "pygments_lexer": "ipython3",
   "version": "3.11.0"
  }
 },
 "nbformat": 4,
 "nbformat_minor": 5
}
