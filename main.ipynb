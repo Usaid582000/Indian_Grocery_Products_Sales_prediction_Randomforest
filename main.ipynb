{
 "cells": [
  {
   "cell_type": "markdown",
   "id": "48fa1880",
   "metadata": {},
   "source": [
    "**<h3>Data Installation</h3>**"
   ]
  },
  {
   "cell_type": "code",
   "execution_count": 86,
   "id": "a3adabc1",
   "metadata": {},
   "outputs": [
    {
     "data": {
      "text/html": [
       "<div>\n",
       "<style scoped>\n",
       "    .dataframe tbody tr th:only-of-type {\n",
       "        vertical-align: middle;\n",
       "    }\n",
       "\n",
       "    .dataframe tbody tr th {\n",
       "        vertical-align: top;\n",
       "    }\n",
       "\n",
       "    .dataframe thead th {\n",
       "        text-align: right;\n",
       "    }\n",
       "</style>\n",
       "<table border=\"1\" class=\"dataframe\">\n",
       "  <thead>\n",
       "    <tr style=\"text-align: right;\">\n",
       "      <th></th>\n",
       "      <th>Title</th>\n",
       "      <th>Price_discount</th>\n",
       "      <th>Price_original</th>\n",
       "      <th>Details</th>\n",
       "      <th>Tag</th>\n",
       "      <th>Date</th>\n",
       "      <th>Place</th>\n",
       "    </tr>\n",
       "  </thead>\n",
       "  <tbody>\n",
       "    <tr>\n",
       "      <th>0</th>\n",
       "      <td>Onion 1 kg (Pyaz)</td>\n",
       "      <td>₹ 40</td>\n",
       "      <td>₹ 50</td>\n",
       "      <td>NaN</td>\n",
       "      <td>NaN</td>\n",
       "      <td>20240117</td>\n",
       "      <td>Bengaluru</td>\n",
       "    </tr>\n",
       "    <tr>\n",
       "      <th>1</th>\n",
       "      <td>Desi Tomato (Tamatar)</td>\n",
       "      <td>₹ 19</td>\n",
       "      <td>₹ 25</td>\n",
       "      <td>NaN</td>\n",
       "      <td>NaN</td>\n",
       "      <td>20240117</td>\n",
       "      <td>Bengaluru</td>\n",
       "    </tr>\n",
       "    <tr>\n",
       "      <th>2</th>\n",
       "      <td>Red Carrot (Gajar)</td>\n",
       "      <td>₹ 15</td>\n",
       "      <td>₹ 20</td>\n",
       "      <td>500 g</td>\n",
       "      <td>NaN</td>\n",
       "      <td>20240117</td>\n",
       "      <td>Bengaluru</td>\n",
       "    </tr>\n",
       "    <tr>\n",
       "      <th>3</th>\n",
       "      <td>Ginger (Adrak)</td>\n",
       "      <td>₹ 37</td>\n",
       "      <td>₹ 49</td>\n",
       "      <td>200 g</td>\n",
       "      <td>NaN</td>\n",
       "      <td>20240117</td>\n",
       "      <td>Bengaluru</td>\n",
       "    </tr>\n",
       "    <tr>\n",
       "      <th>4</th>\n",
       "      <td>Green Chilli (Hari Mirch)</td>\n",
       "      <td>₹ 11</td>\n",
       "      <td>₹ 14</td>\n",
       "      <td>100 g</td>\n",
       "      <td>NaN</td>\n",
       "      <td>20240117</td>\n",
       "      <td>Bengaluru</td>\n",
       "    </tr>\n",
       "  </tbody>\n",
       "</table>\n",
       "</div>"
      ],
      "text/plain": [
       "                       Title Price_discount Price_original Details  Tag  \\\n",
       "0          Onion 1 kg (Pyaz)           ₹ 40           ₹ 50     NaN  NaN   \n",
       "1      Desi Tomato (Tamatar)           ₹ 19           ₹ 25     NaN  NaN   \n",
       "2         Red Carrot (Gajar)           ₹ 15           ₹ 20   500 g  NaN   \n",
       "3             Ginger (Adrak)           ₹ 37           ₹ 49   200 g  NaN   \n",
       "4  Green Chilli (Hari Mirch)           ₹ 11           ₹ 14   100 g  NaN   \n",
       "\n",
       "       Date      Place  \n",
       "0  20240117  Bengaluru  \n",
       "1  20240117  Bengaluru  \n",
       "2  20240117  Bengaluru  \n",
       "3  20240117  Bengaluru  \n",
       "4  20240117  Bengaluru  "
      ]
     },
     "execution_count": 86,
     "metadata": {},
     "output_type": "execute_result"
    }
   ],
   "source": [
    "import csv\n",
    "import pandas as pd\n",
    "import seaborn as sns\n",
    "import matplotlib.pyplot as plt\n",
    "import numpy as np\n",
    "\n",
    "df = pd.read_csv('blinkit_retail.csv')\n",
    "df.head()"
   ]
  },
  {
   "cell_type": "code",
   "execution_count": 87,
   "id": "6ae7fec7",
   "metadata": {},
   "outputs": [
    {
     "name": "stdout",
     "output_type": "stream",
     "text": [
      "<class 'pandas.core.frame.DataFrame'>\n",
      "RangeIndex: 116554 entries, 0 to 116553\n",
      "Data columns (total 7 columns):\n",
      " #   Column          Non-Null Count   Dtype \n",
      "---  ------          --------------   ----- \n",
      " 0   Title           116554 non-null  object\n",
      " 1   Price_discount  116553 non-null  object\n",
      " 2   Price_original  99047 non-null   object\n",
      " 3   Details         88227 non-null   object\n",
      " 4   Tag             10521 non-null   object\n",
      " 5   Date            116554 non-null  int64 \n",
      " 6   Place           116554 non-null  object\n",
      "dtypes: int64(1), object(6)\n",
      "memory usage: 6.2+ MB\n"
     ]
    }
   ],
   "source": [
    "df.info()"
   ]
  },
  {
   "cell_type": "markdown",
   "id": "5e48806e",
   "metadata": {},
   "source": [
    "**<h3>Preprocessing</h3>**"
   ]
  },
  {
   "cell_type": "code",
   "execution_count": 88,
   "id": "bf878383",
   "metadata": {},
   "outputs": [],
   "source": [
    "df.isnull().sum()\n",
    "df.drop_duplicates(inplace=True)"
   ]
  },
  {
   "cell_type": "code",
   "execution_count": 89,
   "id": "0c87f1d3",
   "metadata": {},
   "outputs": [],
   "source": [
    "df['Price_original'] = df['Price_original'].apply(lambda x: str(x) if pd.notnull(x) else '')\n",
    "df['Price_original'] = df['Price_original'].str.replace(r'[^\\d.]', '', regex=True)\n",
    "df['Price_original'] = pd.to_numeric(df['Price_original'], errors='coerce')\n",
    "df = df.dropna(subset=['Price_original'])"
   ]
  },
  {
   "cell_type": "code",
   "execution_count": 93,
   "id": "7548d642",
   "metadata": {},
   "outputs": [
    {
     "data": {
      "text/plain": [
       "<Axes: xlabel='Price_original', ylabel='Count'>"
      ]
     },
     "execution_count": 93,
     "metadata": {},
     "output_type": "execute_result"
    },
    {
     "data": {
      "image/png": "[encoded data removed]",
      "text/plain": [
       "<Figure size 640x480 with 1 Axes>"
      ]
     },
     "metadata": {},
     "output_type": "display_data"
    }
   ],
   "source": [
    "sns.histplot(np.log(df.Price_original),kde=True)"
   ]
  },
  {
   "cell_type": "code",
   "execution_count": null,
   "id": "b350bb98",
   "metadata": {},
   "outputs": [],
   "source": []
  }
 ],
 "metadata": {
  "kernelspec": {
   "display_name": ".env",
   "language": "python",
   "name": "python3"
  },
  "language_info": {
   "codemirror_mode": {
    "name": "ipython",
    "version": 3
   },
   "file_extension": ".py",
   "mimetype": "text/x-python",
   "name": "python",
   "nbconvert_exporter": "python",
   "pygments_lexer": "ipython3",
   "version": "3.11.0"
  }
 },
 "nbformat": 4,
 "nbformat_minor": 5
}
