{
 "cells": [
  {
   "cell_type": "code",
   "execution_count": 1,
   "id": "a7b14436",
   "metadata": {},
   "outputs": [],
   "source": [
    "import pandas as pd\n",
    "import seaborn as sns\n",
    "import numpy as np"
   ]
  },
  {
   "cell_type": "code",
   "execution_count": null,
   "id": "09b17d6c",
   "metadata": {},
   "outputs": [],
   "source": [
    "df = pd.read_csv('supermarket-sales.csv')\n",
    "df = df.drop([\"State\",\"Customer Name\",\"Discount\",\"Order ID\",\"Profit\"], axis=1)\n",
    "df['Orderdate'] = pd.to_datetime(df['Orderdate'], format='mixed', dayfirst=True, errors='coerce')\n",
    "df['year'] = df['Orderdate'].dt.year\n",
    "df['month'] = df['Orderdate'].dt.month\n",
    "df['day'] = df['Orderdate'].dt.day\n",
    "df[\"weekday\"] = df[\"Orderdate\"].dt.weekday\n",
    "df[\"is_weekend\"] = df[\"weekday\"].isin([5,6]).astype(int)\n",
    "df =df.sort_values('Orderdate')\n",
    "df = pd.get_dummies(df, columns=[\"Category\", \"Subcategory\", \"City\", \"Region\"], drop_first=True)\n",
    "\n",
    "df = df.set_index('Orderdate')\n",
    "for lag in [1, 7, 30]:\n",
    "    df[f'sales_lag_{lag}'] = df['Sales'].shift(lag)\n",
    "\n",
    "df['sales_roll_7'] = df['Sales'].shift(1).rolling(window=7).mean()\n",
    "df['sales_roll_30'] = df['Sales'].shift(1).rolling(window=30).mean()\n",
    "df = df.dropna()"
   ]
  },
  {
   "cell_type": "code",
   "execution_count": null,
   "id": "db35d702",
   "metadata": {},
   "outputs": [],
   "source": [
    "X = df.drop([\"Sales\"], axis=1)\n",
    "y = np.log1p(df[\"Sales\"])\n",
    "X = X.apply(pd.to_numeric, errors='coerce')\n",
    "mask = ~X.isna().any(axis=1) & ~y.isna() & ~np.isinf(y)\n",
    "X, y = X[mask], y[mask]\n",
    "\n",
    "split_point = int(len(df) * 0.8)\n",
    "X_train, X_test = X.iloc[:split_point], X.iloc[split_point:]\n",
    "y_train, y_test = y.iloc[:split_point], y.iloc[split_point:]\n",
    "from sklearn.ensemble import RandomForestRegressor\n",
    "from sklearn.model_selection import GridSearchCV\n",
    "from sklearn.metrics import mean_absolute_error, mean_squared_error, r2_score\n",
    "param_grid = {\n",
    "    'n_estimators': [100, 200],\n",
    "    'max_depth': [None, 10, 20],\n",
    "    'min_samples_split': [2, 5]\n",
    "}\n",
    "rf = RandomForestRegressor(random_state=42, n_jobs=-1)\n",
    "grid_search = GridSearchCV(\n",
    "    estimator=rf,\n",
    "    param_grid=param_grid,\n",
    "    cv=3,\n",
    "    scoring='neg_mean_squared_error',\n",
    "    n_jobs=-1,\n",
    "    verbose=1\n",
    ")\n",
    "grid_search.fit(X_train, y_train)\n",
    "best_model = grid_search.best_estimator_\n",
    "print(\"Best Params:\", grid_search.best_params_)\n",
    "y_pred = best_model.predict(X_test)"
   ]
  }
 ],
 "metadata": {
  "kernelspec": {
   "display_name": ".env",
   "language": "python",
   "name": "python3"
  },
  "language_info": {
   "codemirror_mode": {
    "name": "ipython",
    "version": 3
   },
   "file_extension": ".py",
   "mimetype": "text/x-python",
   "name": "python",
   "nbconvert_exporter": "python",
   "pygments_lexer": "ipython3",
   "version": "3.11.0"
  }
 },
 "nbformat": 4,
 "nbformat_minor": 5
}
